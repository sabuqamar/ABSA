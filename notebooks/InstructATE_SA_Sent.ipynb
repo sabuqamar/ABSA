{
 "cells": [
  {
   "cell_type": "code",
   "execution_count": 1,
   "metadata": {},
   "outputs": [
    {
     "name": "stdout",
     "output_type": "stream",
     "text": [
      "Requirement already satisfied: pandas in /Users/shahedabuqamar/.pyenv/versions/3.7.3/lib/python3.7/site-packages (from -r ../requirements.txt (line 1)) (1.0.3)\n",
      "Requirement already satisfied: selenium in /Users/shahedabuqamar/.pyenv/versions/3.7.3/lib/python3.7/site-packages (from -r ../requirements.txt (line 2)) (4.9.0)\n",
      "Requirement already satisfied: transformers in /Users/shahedabuqamar/.pyenv/versions/3.7.3/lib/python3.7/site-packages (from -r ../requirements.txt (line 3)) (4.28.1)\n",
      "Requirement already satisfied: scikit-learn in /Users/shahedabuqamar/.pyenv/versions/3.7.3/lib/python3.7/site-packages (from -r ../requirements.txt (line 4)) (1.0.2)\n",
      "Requirement already satisfied: torch in /Users/shahedabuqamar/.pyenv/versions/3.7.3/lib/python3.7/site-packages (from -r ../requirements.txt (line 5)) (1.12.1)\n",
      "Requirement already satisfied: beautifulsoup4 in /Users/shahedabuqamar/.pyenv/versions/3.7.3/lib/python3.7/site-packages (from -r ../requirements.txt (line 6)) (4.12.2)\n",
      "Collecting argparse (from -r ../requirements.txt (line 7))\n",
      "  Using cached argparse-1.4.0-py2.py3-none-any.whl (23 kB)\n",
      "Requirement already satisfied: datasets in /Users/shahedabuqamar/.pyenv/versions/3.7.3/lib/python3.7/site-packages (from -r ../requirements.txt (line 8)) (2.11.0)\n",
      "Requirement already satisfied: numpy in /Users/shahedabuqamar/.pyenv/versions/3.7.3/lib/python3.7/site-packages (from -r ../requirements.txt (line 9)) (1.21.6)\n",
      "Requirement already satisfied: tqdm in /Users/shahedabuqamar/.pyenv/versions/3.7.3/lib/python3.7/site-packages (from -r ../requirements.txt (line 10)) (4.65.0)\n",
      "Requirement already satisfied: nltk in /Users/shahedabuqamar/.pyenv/versions/3.7.3/lib/python3.7/site-packages (from -r ../requirements.txt (line 11)) (3.7)\n",
      "Requirement already satisfied: python-dateutil>=2.6.1 in /Users/shahedabuqamar/.pyenv/versions/3.7.3/lib/python3.7/site-packages (from pandas->-r ../requirements.txt (line 1)) (2.8.2)\n",
      "Requirement already satisfied: pytz>=2017.2 in /Users/shahedabuqamar/.pyenv/versions/3.7.3/lib/python3.7/site-packages (from pandas->-r ../requirements.txt (line 1)) (2020.1)\n",
      "Requirement already satisfied: urllib3[socks]~=1.26 in /Users/shahedabuqamar/.pyenv/versions/3.7.3/lib/python3.7/site-packages (from selenium->-r ../requirements.txt (line 2)) (1.26.4)\n",
      "Requirement already satisfied: trio~=0.17 in /Users/shahedabuqamar/.pyenv/versions/3.7.3/lib/python3.7/site-packages (from selenium->-r ../requirements.txt (line 2)) (0.22.0)\n",
      "Requirement already satisfied: trio-websocket~=0.9 in /Users/shahedabuqamar/.pyenv/versions/3.7.3/lib/python3.7/site-packages (from selenium->-r ../requirements.txt (line 2)) (0.10.2)\n",
      "Requirement already satisfied: certifi>=2021.10.8 in /Users/shahedabuqamar/.pyenv/versions/3.7.3/lib/python3.7/site-packages (from selenium->-r ../requirements.txt (line 2)) (2022.12.7)\n",
      "Requirement already satisfied: filelock in /Users/shahedabuqamar/.pyenv/versions/3.7.3/lib/python3.7/site-packages (from transformers->-r ../requirements.txt (line 3)) (3.0.12)\n",
      "Requirement already satisfied: huggingface-hub<1.0,>=0.11.0 in /Users/shahedabuqamar/.pyenv/versions/3.7.3/lib/python3.7/site-packages (from transformers->-r ../requirements.txt (line 3)) (0.13.4)\n",
      "Requirement already satisfied: packaging>=20.0 in /Users/shahedabuqamar/.pyenv/versions/3.7.3/lib/python3.7/site-packages (from transformers->-r ../requirements.txt (line 3)) (22.0)\n",
      "Requirement already satisfied: pyyaml>=5.1 in /Users/shahedabuqamar/.pyenv/versions/3.7.3/lib/python3.7/site-packages (from transformers->-r ../requirements.txt (line 3)) (6.0)\n",
      "Requirement already satisfied: regex!=2019.12.17 in /Users/shahedabuqamar/.local/lib/python3.7/site-packages (from transformers->-r ../requirements.txt (line 3)) (2022.9.13)\n",
      "Requirement already satisfied: requests in /Users/shahedabuqamar/.pyenv/versions/3.7.3/lib/python3.7/site-packages (from transformers->-r ../requirements.txt (line 3)) (2.25.1)\n",
      "Requirement already satisfied: tokenizers!=0.11.3,<0.14,>=0.11.1 in /Users/shahedabuqamar/.pyenv/versions/3.7.3/lib/python3.7/site-packages (from transformers->-r ../requirements.txt (line 3)) (0.13.3)\n",
      "Requirement already satisfied: importlib-metadata in /Users/shahedabuqamar/.pyenv/versions/3.7.3/lib/python3.7/site-packages (from transformers->-r ../requirements.txt (line 3)) (5.2.0)\n",
      "Requirement already satisfied: scipy>=1.1.0 in /Users/shahedabuqamar/.pyenv/versions/3.7.3/lib/python3.7/site-packages (from scikit-learn->-r ../requirements.txt (line 4)) (1.6.1)\n",
      "Requirement already satisfied: joblib>=0.11 in /Users/shahedabuqamar/.pyenv/versions/3.7.3/lib/python3.7/site-packages (from scikit-learn->-r ../requirements.txt (line 4)) (1.0.1)\n",
      "Requirement already satisfied: threadpoolctl>=2.0.0 in /Users/shahedabuqamar/.pyenv/versions/3.7.3/lib/python3.7/site-packages (from scikit-learn->-r ../requirements.txt (line 4)) (2.1.0)\n",
      "Requirement already satisfied: typing-extensions in /Users/shahedabuqamar/.pyenv/versions/3.7.3/lib/python3.7/site-packages (from torch->-r ../requirements.txt (line 5)) (4.4.0)\n",
      "Requirement already satisfied: soupsieve>1.2 in /Users/shahedabuqamar/.pyenv/versions/3.7.3/lib/python3.7/site-packages (from beautifulsoup4->-r ../requirements.txt (line 6)) (2.4.1)\n",
      "Requirement already satisfied: pyarrow>=8.0.0 in /Users/shahedabuqamar/.pyenv/versions/3.7.3/lib/python3.7/site-packages (from datasets->-r ../requirements.txt (line 8)) (11.0.0)\n",
      "Requirement already satisfied: dill<0.3.7,>=0.3.0 in /Users/shahedabuqamar/.pyenv/versions/3.7.3/lib/python3.7/site-packages (from datasets->-r ../requirements.txt (line 8)) (0.3.6)\n",
      "Requirement already satisfied: xxhash in /Users/shahedabuqamar/.pyenv/versions/3.7.3/lib/python3.7/site-packages (from datasets->-r ../requirements.txt (line 8)) (3.2.0)\n",
      "Requirement already satisfied: multiprocess in /Users/shahedabuqamar/.pyenv/versions/3.7.3/lib/python3.7/site-packages (from datasets->-r ../requirements.txt (line 8)) (0.70.14)\n",
      "Requirement already satisfied: fsspec[http]>=2021.11.1 in /Users/shahedabuqamar/.pyenv/versions/3.7.3/lib/python3.7/site-packages (from datasets->-r ../requirements.txt (line 8)) (2023.1.0)\n",
      "Requirement already satisfied: aiohttp in /Users/shahedabuqamar/.pyenv/versions/3.7.3/lib/python3.7/site-packages (from datasets->-r ../requirements.txt (line 8)) (3.8.4)\n",
      "Requirement already satisfied: responses<0.19 in /Users/shahedabuqamar/.pyenv/versions/3.7.3/lib/python3.7/site-packages (from datasets->-r ../requirements.txt (line 8)) (0.18.0)\n",
      "Requirement already satisfied: click in /Users/shahedabuqamar/.local/lib/python3.7/site-packages (from nltk->-r ../requirements.txt (line 11)) (8.1.3)\n",
      "Requirement already satisfied: attrs>=17.3.0 in /Users/shahedabuqamar/.pyenv/versions/3.7.3/lib/python3.7/site-packages (from aiohttp->datasets->-r ../requirements.txt (line 8)) (22.2.0)\n",
      "Requirement already satisfied: charset-normalizer<4.0,>=2.0 in /Users/shahedabuqamar/.pyenv/versions/3.7.3/lib/python3.7/site-packages (from aiohttp->datasets->-r ../requirements.txt (line 8)) (3.1.0)\n",
      "Requirement already satisfied: multidict<7.0,>=4.5 in /Users/shahedabuqamar/.pyenv/versions/3.7.3/lib/python3.7/site-packages (from aiohttp->datasets->-r ../requirements.txt (line 8)) (6.0.4)\n",
      "Requirement already satisfied: async-timeout<5.0,>=4.0.0a3 in /Users/shahedabuqamar/.pyenv/versions/3.7.3/lib/python3.7/site-packages (from aiohttp->datasets->-r ../requirements.txt (line 8)) (4.0.2)\n",
      "Requirement already satisfied: yarl<2.0,>=1.0 in /Users/shahedabuqamar/.pyenv/versions/3.7.3/lib/python3.7/site-packages (from aiohttp->datasets->-r ../requirements.txt (line 8)) (1.9.1)\n",
      "Requirement already satisfied: frozenlist>=1.1.1 in /Users/shahedabuqamar/.pyenv/versions/3.7.3/lib/python3.7/site-packages (from aiohttp->datasets->-r ../requirements.txt (line 8)) (1.3.3)\n",
      "Requirement already satisfied: aiosignal>=1.1.2 in /Users/shahedabuqamar/.pyenv/versions/3.7.3/lib/python3.7/site-packages (from aiohttp->datasets->-r ../requirements.txt (line 8)) (1.3.1)\n",
      "Requirement already satisfied: asynctest==0.13.0 in /Users/shahedabuqamar/.pyenv/versions/3.7.3/lib/python3.7/site-packages (from aiohttp->datasets->-r ../requirements.txt (line 8)) (0.13.0)\n",
      "Requirement already satisfied: six>=1.5 in /Users/shahedabuqamar/.pyenv/versions/3.7.3/lib/python3.7/site-packages (from python-dateutil>=2.6.1->pandas->-r ../requirements.txt (line 1)) (1.14.0)\n",
      "Requirement already satisfied: chardet<5,>=3.0.2 in /Users/shahedabuqamar/.pyenv/versions/3.7.3/lib/python3.7/site-packages (from requests->transformers->-r ../requirements.txt (line 3)) (4.0.0)\n",
      "Requirement already satisfied: idna<3,>=2.5 in /Users/shahedabuqamar/.pyenv/versions/3.7.3/lib/python3.7/site-packages (from requests->transformers->-r ../requirements.txt (line 3)) (2.10)\n",
      "Requirement already satisfied: sortedcontainers in /Users/shahedabuqamar/.pyenv/versions/3.7.3/lib/python3.7/site-packages (from trio~=0.17->selenium->-r ../requirements.txt (line 2)) (2.4.0)\n",
      "Requirement already satisfied: async-generator>=1.9 in /Users/shahedabuqamar/.pyenv/versions/3.7.3/lib/python3.7/site-packages (from trio~=0.17->selenium->-r ../requirements.txt (line 2)) (1.10)\n",
      "Requirement already satisfied: outcome in /Users/shahedabuqamar/.pyenv/versions/3.7.3/lib/python3.7/site-packages (from trio~=0.17->selenium->-r ../requirements.txt (line 2)) (1.2.0)\n",
      "Requirement already satisfied: sniffio in /Users/shahedabuqamar/.pyenv/versions/3.7.3/lib/python3.7/site-packages (from trio~=0.17->selenium->-r ../requirements.txt (line 2)) (1.3.0)\n",
      "Requirement already satisfied: exceptiongroup>=1.0.0rc9 in /Users/shahedabuqamar/.pyenv/versions/3.7.3/lib/python3.7/site-packages (from trio~=0.17->selenium->-r ../requirements.txt (line 2)) (1.1.0)\n",
      "Requirement already satisfied: wsproto>=0.14 in /Users/shahedabuqamar/.pyenv/versions/3.7.3/lib/python3.7/site-packages (from trio-websocket~=0.9->selenium->-r ../requirements.txt (line 2)) (1.2.0)\n",
      "Requirement already satisfied: PySocks!=1.5.7,<2.0,>=1.5.6 in /Users/shahedabuqamar/.pyenv/versions/3.7.3/lib/python3.7/site-packages (from urllib3[socks]~=1.26->selenium->-r ../requirements.txt (line 2)) (1.7.1)\n",
      "Requirement already satisfied: zipp>=0.5 in /Users/shahedabuqamar/.pyenv/versions/3.7.3/lib/python3.7/site-packages (from importlib-metadata->transformers->-r ../requirements.txt (line 3)) (3.3.1)\n",
      "Requirement already satisfied: h11<1,>=0.9.0 in /Users/shahedabuqamar/.pyenv/versions/3.7.3/lib/python3.7/site-packages (from wsproto>=0.14->trio-websocket~=0.9->selenium->-r ../requirements.txt (line 2)) (0.14.0)\n",
      "Installing collected packages: argparse\n",
      "Successfully installed argparse-1.4.0\n"
     ]
    }
   ],
   "source": [
    "!pip install -r ../requirements.txt"
   ]
  },
  {
   "attachments": {},
   "cell_type": "markdown",
   "metadata": {},
   "source": [
    "### Read Data"
   ]
  },
  {
   "cell_type": "code",
   "execution_count": 2,
   "metadata": {},
   "outputs": [
    {
     "name": "stderr",
     "output_type": "stream",
     "text": [
      "[nltk_data] Downloading package punkt to\n",
      "[nltk_data]     /Users/shahedabuqamar/nltk_data...\n",
      "[nltk_data]   Package punkt is already up-to-date!\n",
      "[nltk_data] Downloading package stopwords to\n",
      "[nltk_data]     /Users/shahedabuqamar/nltk_data...\n",
      "[nltk_data]   Package stopwords is already up-to-date!\n"
     ]
    }
   ],
   "source": [
    "import nltk\n",
    "import re\n",
    "import csv\n",
    "\n",
    "# download the necessary nltk packages (only needs to be done once)\n",
    "nltk.download('punkt')\n",
    "nltk.download('stopwords')\n",
    "\n",
    "\n",
    "def read_reviews_from_csv(file_path):\n",
    "    ratings = []\n",
    "    reviews = []\n",
    "    with open(file_path, 'r', newline='') as csvfile:\n",
    "        reader = csv.reader(csvfile)\n",
    "        for row in reader:\n",
    "            # Assuming rating is the first item in each row, and review is the second item\n",
    "            rating, review = row[0], row[1]\n",
    "            ratings.append(int(rating)) # Convert rating to integer if needed\n",
    "            reviews.append(review)\n",
    "    return ratings, reviews\n",
    "\n",
    "\n",
    "# function to clean a review text\n",
    "def clean_review(review):\n",
    "    # convert to lowercase\n",
    "    review = review.lower()\n",
    "    # remove non-alphanumeric characters\n",
    "    review = re.sub(r'[^a-zA-Z0-9\\s]', '', review)\n",
    "    # remove extra whitespaces\n",
    "    review = re.sub(r'\\s+', ' ', review).strip()\n",
    "    # tokenize the cleaned review into words using nltk's word_tokenize() function\n",
    "    tokens = nltk.word_tokenize(review)\n",
    "    tokens = [str(token) for token in tokens]\n",
    "    # join the tokens back into a sentence using ' ' as a separator\n",
    "    review = ' '.join(tokens)\n",
    "    # return cleaned review\n",
    "    return review\n",
    "\n",
    "\n",
    "def get_ratings_sentences():\n",
    "    ratings, reviews = read_reviews_from_csv(\"../data/reviews.csv\")\n",
    "    # clean the reviews and split them into sentences\n",
    "    sentences = []\n",
    "    for idx, review in enumerate(reviews):\n",
    "        # clean the review text\n",
    "        cleaned_review = clean_review(review)\n",
    "        # split the cleaned review into sentences using nltk's sent_tokenize() function\n",
    "        review_sentences = nltk.sent_tokenize(cleaned_review)\n",
    "        # append the sentences to the list\n",
    "        sentences.extend(review_sentences)\n",
    "\n",
    "    return sentences\n"
   ]
  },
  {
   "attachments": {},
   "cell_type": "markdown",
   "metadata": {},
   "source": [
    "### Call Model \n",
    "Instruct ATE + SA + Clustering"
   ]
  },
  {
   "cell_type": "code",
   "execution_count": null,
   "metadata": {},
   "outputs": [],
   "source": [
    "import sys\n",
    "\n",
    "# Add the parent directory of ABSA to the module search path\n",
    "sys.path.append('..')\n",
    "\n",
    "from models.SA import evaluate\n",
    "from models.Clustering import scores\n",
    "from scripts import script\n",
    "sentences = get_ratings_sentences()\n",
    "\n",
    "for sent in sentences:\n",
    "\tprint(\"Sentence:\" , sent)\n",
    "\tterms = script.return_iabsa(script.Task.ATE, \"../models/InstructABSA/InstructABSA/Models/ate/allenaitk-instruct-base-def-pos-ate_check\", 2, sent)\n",
    "\tprint(\"Aspects:\" , terms)\n",
    "\tlabels = evaluate.evaluate(sent, terms)\n",
    "\tprint(\"Polarities: \" , labels)\n",
    "\tprint(\"Clustering scores: \", scores.get_clusters(terms, labels))"
   ]
  }
 ],
 "metadata": {
  "kernelspec": {
   "display_name": "Python 3",
   "language": "python",
   "name": "python3"
  },
  "language_info": {
   "codemirror_mode": {
    "name": "ipython",
    "version": 3
   },
   "file_extension": ".py",
   "mimetype": "text/x-python",
   "name": "python",
   "nbconvert_exporter": "python",
   "pygments_lexer": "ipython3",
   "version": "3.7.3"
  },
  "orig_nbformat": 4
 },
 "nbformat": 4,
 "nbformat_minor": 2
}
