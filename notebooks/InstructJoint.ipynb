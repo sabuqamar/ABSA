{
 "cells": [
  {
   "cell_type": "code",
   "execution_count": 1,
   "metadata": {},
   "outputs": [
    {
     "name": "stdout",
     "output_type": "stream",
     "text": [
      "Requirement already satisfied: pandas in /Users/shahedabuqamar/.pyenv/versions/3.7.3/lib/python3.7/site-packages (from -r ../requirements.txt (line 1)) (1.0.3)\n",
      "Requirement already satisfied: selenium in /Users/shahedabuqamar/.pyenv/versions/3.7.3/lib/python3.7/site-packages (from -r ../requirements.txt (line 2)) (4.9.0)\n",
      "Requirement already satisfied: transformers in /Users/shahedabuqamar/.pyenv/versions/3.7.3/lib/python3.7/site-packages (from -r ../requirements.txt (line 3)) (4.28.1)\n",
      "Requirement already satisfied: scikit-learn in /Users/shahedabuqamar/.pyenv/versions/3.7.3/lib/python3.7/site-packages (from -r ../requirements.txt (line 4)) (1.0.2)\n",
      "Requirement already satisfied: torch in /Users/shahedabuqamar/.pyenv/versions/3.7.3/lib/python3.7/site-packages (from -r ../requirements.txt (line 5)) (1.12.1)\n",
      "Requirement already satisfied: beautifulsoup4 in /Users/shahedabuqamar/.pyenv/versions/3.7.3/lib/python3.7/site-packages (from -r ../requirements.txt (line 6)) (4.12.2)\n",
      "Collecting argparse (from -r ../requirements.txt (line 7))\n",
      "  Using cached argparse-1.4.0-py2.py3-none-any.whl (23 kB)\n",
      "Requirement already satisfied: datasets in /Users/shahedabuqamar/.pyenv/versions/3.7.3/lib/python3.7/site-packages (from -r ../requirements.txt (line 8)) (2.11.0)\n",
      "Requirement already satisfied: numpy in /Users/shahedabuqamar/.pyenv/versions/3.7.3/lib/python3.7/site-packages (from -r ../requirements.txt (line 9)) (1.21.6)\n",
      "Requirement already satisfied: tqdm in /Users/shahedabuqamar/.pyenv/versions/3.7.3/lib/python3.7/site-packages (from -r ../requirements.txt (line 10)) (4.65.0)\n",
      "Requirement already satisfied: nltk in /Users/shahedabuqamar/.pyenv/versions/3.7.3/lib/python3.7/site-packages (from -r ../requirements.txt (line 11)) (3.7)\n",
      "Requirement already satisfied: python-dateutil>=2.6.1 in /Users/shahedabuqamar/.pyenv/versions/3.7.3/lib/python3.7/site-packages (from pandas->-r ../requirements.txt (line 1)) (2.8.2)\n",
      "Requirement already satisfied: pytz>=2017.2 in /Users/shahedabuqamar/.pyenv/versions/3.7.3/lib/python3.7/site-packages (from pandas->-r ../requirements.txt (line 1)) (2020.1)\n",
      "Requirement already satisfied: urllib3[socks]~=1.26 in /Users/shahedabuqamar/.pyenv/versions/3.7.3/lib/python3.7/site-packages (from selenium->-r ../requirements.txt (line 2)) (1.26.4)\n",
      "Requirement already satisfied: trio~=0.17 in /Users/shahedabuqamar/.pyenv/versions/3.7.3/lib/python3.7/site-packages (from selenium->-r ../requirements.txt (line 2)) (0.22.0)\n",
      "Requirement already satisfied: trio-websocket~=0.9 in /Users/shahedabuqamar/.pyenv/versions/3.7.3/lib/python3.7/site-packages (from selenium->-r ../requirements.txt (line 2)) (0.10.2)\n",
      "Requirement already satisfied: certifi>=2021.10.8 in /Users/shahedabuqamar/.pyenv/versions/3.7.3/lib/python3.7/site-packages (from selenium->-r ../requirements.txt (line 2)) (2022.12.7)\n",
      "Requirement already satisfied: filelock in /Users/shahedabuqamar/.pyenv/versions/3.7.3/lib/python3.7/site-packages (from transformers->-r ../requirements.txt (line 3)) (3.0.12)\n",
      "Requirement already satisfied: huggingface-hub<1.0,>=0.11.0 in /Users/shahedabuqamar/.pyenv/versions/3.7.3/lib/python3.7/site-packages (from transformers->-r ../requirements.txt (line 3)) (0.13.4)\n",
      "Requirement already satisfied: packaging>=20.0 in /Users/shahedabuqamar/.pyenv/versions/3.7.3/lib/python3.7/site-packages (from transformers->-r ../requirements.txt (line 3)) (22.0)\n",
      "Requirement already satisfied: pyyaml>=5.1 in /Users/shahedabuqamar/.pyenv/versions/3.7.3/lib/python3.7/site-packages (from transformers->-r ../requirements.txt (line 3)) (6.0)\n",
      "Requirement already satisfied: regex!=2019.12.17 in /Users/shahedabuqamar/.local/lib/python3.7/site-packages (from transformers->-r ../requirements.txt (line 3)) (2022.9.13)\n",
      "Requirement already satisfied: requests in /Users/shahedabuqamar/.pyenv/versions/3.7.3/lib/python3.7/site-packages (from transformers->-r ../requirements.txt (line 3)) (2.25.1)\n",
      "Requirement already satisfied: tokenizers!=0.11.3,<0.14,>=0.11.1 in /Users/shahedabuqamar/.pyenv/versions/3.7.3/lib/python3.7/site-packages (from transformers->-r ../requirements.txt (line 3)) (0.13.3)\n",
      "Requirement already satisfied: importlib-metadata in /Users/shahedabuqamar/.pyenv/versions/3.7.3/lib/python3.7/site-packages (from transformers->-r ../requirements.txt (line 3)) (5.2.0)\n",
      "Requirement already satisfied: scipy>=1.1.0 in /Users/shahedabuqamar/.pyenv/versions/3.7.3/lib/python3.7/site-packages (from scikit-learn->-r ../requirements.txt (line 4)) (1.6.1)\n",
      "Requirement already satisfied: joblib>=0.11 in /Users/shahedabuqamar/.pyenv/versions/3.7.3/lib/python3.7/site-packages (from scikit-learn->-r ../requirements.txt (line 4)) (1.0.1)\n",
      "Requirement already satisfied: threadpoolctl>=2.0.0 in /Users/shahedabuqamar/.pyenv/versions/3.7.3/lib/python3.7/site-packages (from scikit-learn->-r ../requirements.txt (line 4)) (2.1.0)\n",
      "Requirement already satisfied: typing-extensions in /Users/shahedabuqamar/.pyenv/versions/3.7.3/lib/python3.7/site-packages (from torch->-r ../requirements.txt (line 5)) (4.4.0)\n",
      "Requirement already satisfied: soupsieve>1.2 in /Users/shahedabuqamar/.pyenv/versions/3.7.3/lib/python3.7/site-packages (from beautifulsoup4->-r ../requirements.txt (line 6)) (2.4.1)\n",
      "Requirement already satisfied: pyarrow>=8.0.0 in /Users/shahedabuqamar/.pyenv/versions/3.7.3/lib/python3.7/site-packages (from datasets->-r ../requirements.txt (line 8)) (11.0.0)\n",
      "Requirement already satisfied: dill<0.3.7,>=0.3.0 in /Users/shahedabuqamar/.pyenv/versions/3.7.3/lib/python3.7/site-packages (from datasets->-r ../requirements.txt (line 8)) (0.3.6)\n",
      "Requirement already satisfied: xxhash in /Users/shahedabuqamar/.pyenv/versions/3.7.3/lib/python3.7/site-packages (from datasets->-r ../requirements.txt (line 8)) (3.2.0)\n",
      "Requirement already satisfied: multiprocess in /Users/shahedabuqamar/.pyenv/versions/3.7.3/lib/python3.7/site-packages (from datasets->-r ../requirements.txt (line 8)) (0.70.14)\n",
      "Requirement already satisfied: fsspec[http]>=2021.11.1 in /Users/shahedabuqamar/.pyenv/versions/3.7.3/lib/python3.7/site-packages (from datasets->-r ../requirements.txt (line 8)) (2023.1.0)\n",
      "Requirement already satisfied: aiohttp in /Users/shahedabuqamar/.pyenv/versions/3.7.3/lib/python3.7/site-packages (from datasets->-r ../requirements.txt (line 8)) (3.8.4)\n",
      "Requirement already satisfied: responses<0.19 in /Users/shahedabuqamar/.pyenv/versions/3.7.3/lib/python3.7/site-packages (from datasets->-r ../requirements.txt (line 8)) (0.18.0)\n",
      "Requirement already satisfied: click in /Users/shahedabuqamar/.local/lib/python3.7/site-packages (from nltk->-r ../requirements.txt (line 11)) (8.1.3)\n",
      "Requirement already satisfied: attrs>=17.3.0 in /Users/shahedabuqamar/.pyenv/versions/3.7.3/lib/python3.7/site-packages (from aiohttp->datasets->-r ../requirements.txt (line 8)) (22.2.0)\n",
      "Requirement already satisfied: charset-normalizer<4.0,>=2.0 in /Users/shahedabuqamar/.pyenv/versions/3.7.3/lib/python3.7/site-packages (from aiohttp->datasets->-r ../requirements.txt (line 8)) (3.1.0)\n",
      "Requirement already satisfied: multidict<7.0,>=4.5 in /Users/shahedabuqamar/.pyenv/versions/3.7.3/lib/python3.7/site-packages (from aiohttp->datasets->-r ../requirements.txt (line 8)) (6.0.4)\n",
      "Requirement already satisfied: async-timeout<5.0,>=4.0.0a3 in /Users/shahedabuqamar/.pyenv/versions/3.7.3/lib/python3.7/site-packages (from aiohttp->datasets->-r ../requirements.txt (line 8)) (4.0.2)\n",
      "Requirement already satisfied: yarl<2.0,>=1.0 in /Users/shahedabuqamar/.pyenv/versions/3.7.3/lib/python3.7/site-packages (from aiohttp->datasets->-r ../requirements.txt (line 8)) (1.9.1)\n",
      "Requirement already satisfied: frozenlist>=1.1.1 in /Users/shahedabuqamar/.pyenv/versions/3.7.3/lib/python3.7/site-packages (from aiohttp->datasets->-r ../requirements.txt (line 8)) (1.3.3)\n",
      "Requirement already satisfied: aiosignal>=1.1.2 in /Users/shahedabuqamar/.pyenv/versions/3.7.3/lib/python3.7/site-packages (from aiohttp->datasets->-r ../requirements.txt (line 8)) (1.3.1)\n",
      "Requirement already satisfied: asynctest==0.13.0 in /Users/shahedabuqamar/.pyenv/versions/3.7.3/lib/python3.7/site-packages (from aiohttp->datasets->-r ../requirements.txt (line 8)) (0.13.0)\n",
      "Requirement already satisfied: six>=1.5 in /Users/shahedabuqamar/.pyenv/versions/3.7.3/lib/python3.7/site-packages (from python-dateutil>=2.6.1->pandas->-r ../requirements.txt (line 1)) (1.14.0)\n",
      "Requirement already satisfied: chardet<5,>=3.0.2 in /Users/shahedabuqamar/.pyenv/versions/3.7.3/lib/python3.7/site-packages (from requests->transformers->-r ../requirements.txt (line 3)) (4.0.0)\n",
      "Requirement already satisfied: idna<3,>=2.5 in /Users/shahedabuqamar/.pyenv/versions/3.7.3/lib/python3.7/site-packages (from requests->transformers->-r ../requirements.txt (line 3)) (2.10)\n",
      "Requirement already satisfied: sortedcontainers in /Users/shahedabuqamar/.pyenv/versions/3.7.3/lib/python3.7/site-packages (from trio~=0.17->selenium->-r ../requirements.txt (line 2)) (2.4.0)\n",
      "Requirement already satisfied: async-generator>=1.9 in /Users/shahedabuqamar/.pyenv/versions/3.7.3/lib/python3.7/site-packages (from trio~=0.17->selenium->-r ../requirements.txt (line 2)) (1.10)\n",
      "Requirement already satisfied: outcome in /Users/shahedabuqamar/.pyenv/versions/3.7.3/lib/python3.7/site-packages (from trio~=0.17->selenium->-r ../requirements.txt (line 2)) (1.2.0)\n",
      "Requirement already satisfied: sniffio in /Users/shahedabuqamar/.pyenv/versions/3.7.3/lib/python3.7/site-packages (from trio~=0.17->selenium->-r ../requirements.txt (line 2)) (1.3.0)\n",
      "Requirement already satisfied: exceptiongroup>=1.0.0rc9 in /Users/shahedabuqamar/.pyenv/versions/3.7.3/lib/python3.7/site-packages (from trio~=0.17->selenium->-r ../requirements.txt (line 2)) (1.1.0)\n",
      "Requirement already satisfied: wsproto>=0.14 in /Users/shahedabuqamar/.pyenv/versions/3.7.3/lib/python3.7/site-packages (from trio-websocket~=0.9->selenium->-r ../requirements.txt (line 2)) (1.2.0)\n",
      "Requirement already satisfied: PySocks!=1.5.7,<2.0,>=1.5.6 in /Users/shahedabuqamar/.pyenv/versions/3.7.3/lib/python3.7/site-packages (from urllib3[socks]~=1.26->selenium->-r ../requirements.txt (line 2)) (1.7.1)\n",
      "Requirement already satisfied: zipp>=0.5 in /Users/shahedabuqamar/.pyenv/versions/3.7.3/lib/python3.7/site-packages (from importlib-metadata->transformers->-r ../requirements.txt (line 3)) (3.3.1)\n",
      "Requirement already satisfied: h11<1,>=0.9.0 in /Users/shahedabuqamar/.pyenv/versions/3.7.3/lib/python3.7/site-packages (from wsproto>=0.14->trio-websocket~=0.9->selenium->-r ../requirements.txt (line 2)) (0.14.0)\n",
      "Installing collected packages: argparse\n",
      "Successfully installed argparse-1.4.0\n"
     ]
    }
   ],
   "source": [
    "!pip install -r ../requirements.txt"
   ]
  },
  {
   "attachments": {},
   "cell_type": "markdown",
   "metadata": {},
   "source": [
    "### Read Data"
   ]
  },
  {
   "cell_type": "code",
   "execution_count": 2,
   "metadata": {},
   "outputs": [
    {
     "name": "stderr",
     "output_type": "stream",
     "text": [
      "[nltk_data] Downloading package punkt to\n",
      "[nltk_data]     /Users/shahedabuqamar/nltk_data...\n",
      "[nltk_data]   Package punkt is already up-to-date!\n",
      "[nltk_data] Downloading package stopwords to\n",
      "[nltk_data]     /Users/shahedabuqamar/nltk_data...\n",
      "[nltk_data]   Package stopwords is already up-to-date!\n"
     ]
    }
   ],
   "source": [
    "import nltk\n",
    "import re\n",
    "import csv\n",
    "\n",
    "# download the necessary nltk packages (only needs to be done once)\n",
    "nltk.download('punkt')\n",
    "nltk.download('stopwords')\n",
    "\n",
    "\n",
    "def read_reviews_from_csv(file_path):\n",
    "    ratings = []\n",
    "    reviews = []\n",
    "    with open(file_path, 'r', newline='') as csvfile:\n",
    "        reader = csv.reader(csvfile)\n",
    "        for row in reader:\n",
    "            # Assuming rating is the first item in each row, and review is the second item\n",
    "            rating, review = row[0], row[1]\n",
    "            ratings.append(int(rating)) # Convert rating to integer if needed\n",
    "            reviews.append(review)\n",
    "    return ratings, reviews\n",
    "\n",
    "\n",
    "# function to clean a review text\n",
    "def clean_review(review):\n",
    "    # convert to lowercase\n",
    "    review = review.lower()\n",
    "    # remove non-alphanumeric characters\n",
    "    review = re.sub(r'[^a-zA-Z0-9\\s]', '', review)\n",
    "    # remove extra whitespaces\n",
    "    review = re.sub(r'\\s+', ' ', review).strip()\n",
    "    # tokenize the cleaned review into words using nltk's word_tokenize() function\n",
    "    tokens = nltk.word_tokenize(review)\n",
    "    tokens = [str(token) for token in tokens]\n",
    "    # join the tokens back into a sentence using ' ' as a separator\n",
    "    review = ' '.join(tokens)\n",
    "    # return cleaned review\n",
    "    return review\n",
    "\n",
    "\n",
    "def get_ratings_sentences():\n",
    "    ratings, reviews = read_reviews_from_csv(\"../data/reviews.csv\")\n",
    "    # clean the reviews and split them into sentences\n",
    "    sentences = []\n",
    "    for idx, review in enumerate(reviews):\n",
    "        # clean the review text\n",
    "        cleaned_review = clean_review(review)\n",
    "        # split the cleaned review into sentences using nltk's sent_tokenize() function\n",
    "        review_sentences = nltk.sent_tokenize(cleaned_review)\n",
    "        # append the sentences to the list\n",
    "        sentences.extend(review_sentences)\n",
    "\n",
    "    return sentences\n"
   ]
  },
  {
   "attachments": {},
   "cell_type": "markdown",
   "metadata": {},
   "source": [
    "### Call Model\n",
    "Instruct InstructJoint + Clustering"
   ]
  },
  {
   "cell_type": "code",
   "execution_count": 5,
   "metadata": {},
   "outputs": [
    {
     "ename": "KeyboardInterrupt",
     "evalue": "",
     "output_type": "error",
     "traceback": [
      "\u001b[0;31m---------------------------------------------------------------------------\u001b[0m",
      "\u001b[0;31mKeyboardInterrupt\u001b[0m                         Traceback (most recent call last)",
      "\u001b[0;32m/var/folders/fk/_zf4gncd6yx4r5hkdcj2qhh40000gn/T/ipykernel_1720/2600556709.py\u001b[0m in \u001b[0;36m<module>\u001b[0;34m\u001b[0m\n\u001b[1;32m     15\u001b[0m \u001b[0mcategory_4_total\u001b[0m \u001b[0;34m=\u001b[0m \u001b[0;36m0\u001b[0m\u001b[0;34m\u001b[0m\u001b[0;34m\u001b[0m\u001b[0m\n\u001b[1;32m     16\u001b[0m \u001b[0;32mfor\u001b[0m \u001b[0msent\u001b[0m \u001b[0;32min\u001b[0m \u001b[0msentences\u001b[0m\u001b[0;34m:\u001b[0m\u001b[0;34m\u001b[0m\u001b[0;34m\u001b[0m\u001b[0m\n\u001b[0;32m---> 17\u001b[0;31m         \u001b[0mterms\u001b[0m\u001b[0;34m,\u001b[0m \u001b[0mlabels\u001b[0m \u001b[0;34m=\u001b[0m \u001b[0mscript\u001b[0m\u001b[0;34m.\u001b[0m\u001b[0mreturn_iabsa\u001b[0m\u001b[0;34m(\u001b[0m\u001b[0mscript\u001b[0m\u001b[0;34m.\u001b[0m\u001b[0mTask\u001b[0m\u001b[0;34m.\u001b[0m\u001b[0mJOINT\u001b[0m\u001b[0;34m,\u001b[0m \u001b[0;34m\"../models/InstructABSA/InstructABSA/Models/joint/allenaitk_instruct_base_def_pos_jointtask_check\"\u001b[0m\u001b[0;34m,\u001b[0m \u001b[0;36m2\u001b[0m\u001b[0;34m,\u001b[0m \u001b[0msent\u001b[0m\u001b[0;34m)\u001b[0m\u001b[0;34m\u001b[0m\u001b[0;34m\u001b[0m\u001b[0m\n\u001b[0m\u001b[1;32m     18\u001b[0m         \u001b[0mcategories_scores\u001b[0m\u001b[0;34m,\u001b[0m \u001b[0mcategories_total\u001b[0m \u001b[0;34m=\u001b[0m \u001b[0mscores\u001b[0m\u001b[0;34m.\u001b[0m\u001b[0mget_clusters\u001b[0m\u001b[0;34m(\u001b[0m\u001b[0mterms\u001b[0m\u001b[0;34m,\u001b[0m \u001b[0mlabels\u001b[0m\u001b[0;34m)\u001b[0m\u001b[0;34m\u001b[0m\u001b[0;34m\u001b[0m\u001b[0m\n\u001b[1;32m     19\u001b[0m         \u001b[0mcategory_1_score\u001b[0m \u001b[0;34m+=\u001b[0m \u001b[0mcategories_scores\u001b[0m\u001b[0;34m[\u001b[0m\u001b[0;36m0\u001b[0m\u001b[0;34m]\u001b[0m\u001b[0;34m\u001b[0m\u001b[0;34m\u001b[0m\u001b[0m\n",
      "\u001b[0;32m~/Desktop/ABSA/scripts/script.py\u001b[0m in \u001b[0;36mreturn_iabsa\u001b[0;34m(task, model_checkpoint, set_instruction_key, sent)\u001b[0m\n\u001b[1;32m     24\u001b[0m \u001b[0;34m\u001b[0m\u001b[0m\n\u001b[1;32m     25\u001b[0m     \u001b[0mindomain\u001b[0m \u001b[0;34m=\u001b[0m \u001b[0;34m'bos_instruct1'\u001b[0m \u001b[0;32mif\u001b[0m \u001b[0mset_instruction_key\u001b[0m \u001b[0;34m==\u001b[0m \u001b[0;36m1\u001b[0m \u001b[0;32melse\u001b[0m \u001b[0;34m'bos_instruct2'\u001b[0m\u001b[0;34m\u001b[0m\u001b[0;34m\u001b[0m\u001b[0m\n\u001b[0;32m---> 26\u001b[0;31m     \u001b[0mt5_exp\u001b[0m \u001b[0;34m=\u001b[0m \u001b[0mT5Generator\u001b[0m\u001b[0;34m(\u001b[0m\u001b[0mmodel_checkpoint\u001b[0m\u001b[0;34m)\u001b[0m\u001b[0;34m\u001b[0m\u001b[0;34m\u001b[0m\u001b[0m\n\u001b[0m\u001b[1;32m     27\u001b[0m \u001b[0;34m\u001b[0m\u001b[0m\n\u001b[1;32m     28\u001b[0m     \u001b[0;32mif\u001b[0m \u001b[0mtask\u001b[0m \u001b[0;34m==\u001b[0m \u001b[0mTask\u001b[0m\u001b[0;34m.\u001b[0m\u001b[0mATE\u001b[0m\u001b[0;34m:\u001b[0m\u001b[0;34m\u001b[0m\u001b[0;34m\u001b[0m\u001b[0m\n",
      "\u001b[0;32m~/Desktop/ABSA/models/InstructABSA/InstructABSA/utils.py\u001b[0m in \u001b[0;36m__init__\u001b[0;34m(self, model_checkpoint)\u001b[0m\n\u001b[1;32m     14\u001b[0m     \u001b[0;32mdef\u001b[0m \u001b[0m__init__\u001b[0m\u001b[0;34m(\u001b[0m\u001b[0mself\u001b[0m\u001b[0;34m,\u001b[0m \u001b[0mmodel_checkpoint\u001b[0m\u001b[0;34m)\u001b[0m\u001b[0;34m:\u001b[0m\u001b[0;34m\u001b[0m\u001b[0;34m\u001b[0m\u001b[0m\n\u001b[1;32m     15\u001b[0m         \u001b[0mself\u001b[0m\u001b[0;34m.\u001b[0m\u001b[0mtokenizer\u001b[0m \u001b[0;34m=\u001b[0m \u001b[0mAutoTokenizer\u001b[0m\u001b[0;34m.\u001b[0m\u001b[0mfrom_pretrained\u001b[0m\u001b[0;34m(\u001b[0m\u001b[0mmodel_checkpoint\u001b[0m\u001b[0;34m)\u001b[0m\u001b[0;34m\u001b[0m\u001b[0;34m\u001b[0m\u001b[0m\n\u001b[0;32m---> 16\u001b[0;31m         \u001b[0mself\u001b[0m\u001b[0;34m.\u001b[0m\u001b[0mmodel\u001b[0m \u001b[0;34m=\u001b[0m \u001b[0mAutoModelForSeq2SeqLM\u001b[0m\u001b[0;34m.\u001b[0m\u001b[0mfrom_pretrained\u001b[0m\u001b[0;34m(\u001b[0m\u001b[0mmodel_checkpoint\u001b[0m\u001b[0;34m)\u001b[0m\u001b[0;34m\u001b[0m\u001b[0;34m\u001b[0m\u001b[0m\n\u001b[0m\u001b[1;32m     17\u001b[0m         \u001b[0mself\u001b[0m\u001b[0;34m.\u001b[0m\u001b[0mdata_collator\u001b[0m \u001b[0;34m=\u001b[0m \u001b[0mDataCollatorForSeq2Seq\u001b[0m\u001b[0;34m(\u001b[0m\u001b[0mself\u001b[0m\u001b[0;34m.\u001b[0m\u001b[0mtokenizer\u001b[0m\u001b[0;34m)\u001b[0m\u001b[0;34m\u001b[0m\u001b[0;34m\u001b[0m\u001b[0m\n\u001b[1;32m     18\u001b[0m         \u001b[0mself\u001b[0m\u001b[0;34m.\u001b[0m\u001b[0mdevice\u001b[0m \u001b[0;34m=\u001b[0m \u001b[0;34m'cuda'\u001b[0m \u001b[0;32mif\u001b[0m \u001b[0mtorch\u001b[0m\u001b[0;34m.\u001b[0m\u001b[0mhas_cuda\u001b[0m \u001b[0;32melse\u001b[0m \u001b[0;34m(\u001b[0m\u001b[0;34m'mps'\u001b[0m \u001b[0;32mif\u001b[0m \u001b[0mtorch\u001b[0m\u001b[0;34m.\u001b[0m\u001b[0mhas_mps\u001b[0m \u001b[0;32melse\u001b[0m \u001b[0;34m'cpu'\u001b[0m\u001b[0;34m)\u001b[0m\u001b[0;34m\u001b[0m\u001b[0;34m\u001b[0m\u001b[0m\n",
      "\u001b[0;32m~/.pyenv/versions/3.7.3/lib/python3.7/site-packages/transformers/models/auto/auto_factory.py\u001b[0m in \u001b[0;36mfrom_pretrained\u001b[0;34m(cls, pretrained_model_name_or_path, *model_args, **kwargs)\u001b[0m\n\u001b[1;32m    470\u001b[0m             \u001b[0mmodel_class\u001b[0m \u001b[0;34m=\u001b[0m \u001b[0m_get_model_class\u001b[0m\u001b[0;34m(\u001b[0m\u001b[0mconfig\u001b[0m\u001b[0;34m,\u001b[0m \u001b[0mcls\u001b[0m\u001b[0;34m.\u001b[0m\u001b[0m_model_mapping\u001b[0m\u001b[0;34m)\u001b[0m\u001b[0;34m\u001b[0m\u001b[0;34m\u001b[0m\u001b[0m\n\u001b[1;32m    471\u001b[0m             return model_class.from_pretrained(\n\u001b[0;32m--> 472\u001b[0;31m                 \u001b[0mpretrained_model_name_or_path\u001b[0m\u001b[0;34m,\u001b[0m \u001b[0;34m*\u001b[0m\u001b[0mmodel_args\u001b[0m\u001b[0;34m,\u001b[0m \u001b[0mconfig\u001b[0m\u001b[0;34m=\u001b[0m\u001b[0mconfig\u001b[0m\u001b[0;34m,\u001b[0m \u001b[0;34m**\u001b[0m\u001b[0mhub_kwargs\u001b[0m\u001b[0;34m,\u001b[0m \u001b[0;34m**\u001b[0m\u001b[0mkwargs\u001b[0m\u001b[0;34m\u001b[0m\u001b[0;34m\u001b[0m\u001b[0m\n\u001b[0m\u001b[1;32m    473\u001b[0m             )\n\u001b[1;32m    474\u001b[0m         raise ValueError(\n",
      "\u001b[0;32m~/.pyenv/versions/3.7.3/lib/python3.7/site-packages/transformers/modeling_utils.py\u001b[0m in \u001b[0;36mfrom_pretrained\u001b[0;34m(cls, pretrained_model_name_or_path, *model_args, **kwargs)\u001b[0m\n\u001b[1;32m   2627\u001b[0m \u001b[0;34m\u001b[0m\u001b[0m\n\u001b[1;32m   2628\u001b[0m         \u001b[0;32mwith\u001b[0m \u001b[0mContextManagers\u001b[0m\u001b[0;34m(\u001b[0m\u001b[0minit_contexts\u001b[0m\u001b[0;34m)\u001b[0m\u001b[0;34m:\u001b[0m\u001b[0;34m\u001b[0m\u001b[0;34m\u001b[0m\u001b[0m\n\u001b[0;32m-> 2629\u001b[0;31m             \u001b[0mmodel\u001b[0m \u001b[0;34m=\u001b[0m \u001b[0mcls\u001b[0m\u001b[0;34m(\u001b[0m\u001b[0mconfig\u001b[0m\u001b[0;34m,\u001b[0m \u001b[0;34m*\u001b[0m\u001b[0mmodel_args\u001b[0m\u001b[0;34m,\u001b[0m \u001b[0;34m**\u001b[0m\u001b[0mmodel_kwargs\u001b[0m\u001b[0;34m)\u001b[0m\u001b[0;34m\u001b[0m\u001b[0;34m\u001b[0m\u001b[0m\n\u001b[0m\u001b[1;32m   2630\u001b[0m \u001b[0;34m\u001b[0m\u001b[0m\n\u001b[1;32m   2631\u001b[0m         \u001b[0;31m# Check first if we are `from_pt`\u001b[0m\u001b[0;34m\u001b[0m\u001b[0;34m\u001b[0m\u001b[0;34m\u001b[0m\u001b[0m\n",
      "\u001b[0;32m~/.pyenv/versions/3.7.3/lib/python3.7/site-packages/transformers/models/t5/modeling_t5.py\u001b[0m in \u001b[0;36m__init__\u001b[0;34m(self, config)\u001b[0m\n\u001b[1;32m   1547\u001b[0m         \u001b[0mdecoder_config\u001b[0m\u001b[0;34m.\u001b[0m\u001b[0mis_encoder_decoder\u001b[0m \u001b[0;34m=\u001b[0m \u001b[0;32mFalse\u001b[0m\u001b[0;34m\u001b[0m\u001b[0;34m\u001b[0m\u001b[0m\n\u001b[1;32m   1548\u001b[0m         \u001b[0mdecoder_config\u001b[0m\u001b[0;34m.\u001b[0m\u001b[0mnum_layers\u001b[0m \u001b[0;34m=\u001b[0m \u001b[0mconfig\u001b[0m\u001b[0;34m.\u001b[0m\u001b[0mnum_decoder_layers\u001b[0m\u001b[0;34m\u001b[0m\u001b[0;34m\u001b[0m\u001b[0m\n\u001b[0;32m-> 1549\u001b[0;31m         \u001b[0mself\u001b[0m\u001b[0;34m.\u001b[0m\u001b[0mdecoder\u001b[0m \u001b[0;34m=\u001b[0m \u001b[0mT5Stack\u001b[0m\u001b[0;34m(\u001b[0m\u001b[0mdecoder_config\u001b[0m\u001b[0;34m,\u001b[0m \u001b[0mself\u001b[0m\u001b[0;34m.\u001b[0m\u001b[0mshared\u001b[0m\u001b[0;34m)\u001b[0m\u001b[0;34m\u001b[0m\u001b[0;34m\u001b[0m\u001b[0m\n\u001b[0m\u001b[1;32m   1550\u001b[0m \u001b[0;34m\u001b[0m\u001b[0m\n\u001b[1;32m   1551\u001b[0m         \u001b[0mself\u001b[0m\u001b[0;34m.\u001b[0m\u001b[0mlm_head\u001b[0m \u001b[0;34m=\u001b[0m \u001b[0mnn\u001b[0m\u001b[0;34m.\u001b[0m\u001b[0mLinear\u001b[0m\u001b[0;34m(\u001b[0m\u001b[0mconfig\u001b[0m\u001b[0;34m.\u001b[0m\u001b[0md_model\u001b[0m\u001b[0;34m,\u001b[0m \u001b[0mconfig\u001b[0m\u001b[0;34m.\u001b[0m\u001b[0mvocab_size\u001b[0m\u001b[0;34m,\u001b[0m \u001b[0mbias\u001b[0m\u001b[0;34m=\u001b[0m\u001b[0;32mFalse\u001b[0m\u001b[0;34m)\u001b[0m\u001b[0;34m\u001b[0m\u001b[0;34m\u001b[0m\u001b[0m\n",
      "\u001b[0;32m~/.pyenv/versions/3.7.3/lib/python3.7/site-packages/transformers/models/t5/modeling_t5.py\u001b[0m in \u001b[0;36m__init__\u001b[0;34m(self, config, embed_tokens)\u001b[0m\n\u001b[1;32m    879\u001b[0m \u001b[0;34m\u001b[0m\u001b[0m\n\u001b[1;32m    880\u001b[0m         self.block = nn.ModuleList(\n\u001b[0;32m--> 881\u001b[0;31m             \u001b[0;34m[\u001b[0m\u001b[0mT5Block\u001b[0m\u001b[0;34m(\u001b[0m\u001b[0mconfig\u001b[0m\u001b[0;34m,\u001b[0m \u001b[0mhas_relative_attention_bias\u001b[0m\u001b[0;34m=\u001b[0m\u001b[0mbool\u001b[0m\u001b[0;34m(\u001b[0m\u001b[0mi\u001b[0m \u001b[0;34m==\u001b[0m \u001b[0;36m0\u001b[0m\u001b[0;34m)\u001b[0m\u001b[0;34m)\u001b[0m \u001b[0;32mfor\u001b[0m \u001b[0mi\u001b[0m \u001b[0;32min\u001b[0m \u001b[0mrange\u001b[0m\u001b[0;34m(\u001b[0m\u001b[0mconfig\u001b[0m\u001b[0;34m.\u001b[0m\u001b[0mnum_layers\u001b[0m\u001b[0;34m)\u001b[0m\u001b[0;34m]\u001b[0m\u001b[0;34m\u001b[0m\u001b[0;34m\u001b[0m\u001b[0m\n\u001b[0m\u001b[1;32m    882\u001b[0m         )\n\u001b[1;32m    883\u001b[0m         \u001b[0mself\u001b[0m\u001b[0;34m.\u001b[0m\u001b[0mfinal_layer_norm\u001b[0m \u001b[0;34m=\u001b[0m \u001b[0mT5LayerNorm\u001b[0m\u001b[0;34m(\u001b[0m\u001b[0mconfig\u001b[0m\u001b[0;34m.\u001b[0m\u001b[0md_model\u001b[0m\u001b[0;34m,\u001b[0m \u001b[0meps\u001b[0m\u001b[0;34m=\u001b[0m\u001b[0mconfig\u001b[0m\u001b[0;34m.\u001b[0m\u001b[0mlayer_norm_epsilon\u001b[0m\u001b[0;34m)\u001b[0m\u001b[0;34m\u001b[0m\u001b[0;34m\u001b[0m\u001b[0m\n",
      "\u001b[0;32m~/.pyenv/versions/3.7.3/lib/python3.7/site-packages/transformers/models/t5/modeling_t5.py\u001b[0m in \u001b[0;36m<listcomp>\u001b[0;34m(.0)\u001b[0m\n\u001b[1;32m    879\u001b[0m \u001b[0;34m\u001b[0m\u001b[0m\n\u001b[1;32m    880\u001b[0m         self.block = nn.ModuleList(\n\u001b[0;32m--> 881\u001b[0;31m             \u001b[0;34m[\u001b[0m\u001b[0mT5Block\u001b[0m\u001b[0;34m(\u001b[0m\u001b[0mconfig\u001b[0m\u001b[0;34m,\u001b[0m \u001b[0mhas_relative_attention_bias\u001b[0m\u001b[0;34m=\u001b[0m\u001b[0mbool\u001b[0m\u001b[0;34m(\u001b[0m\u001b[0mi\u001b[0m \u001b[0;34m==\u001b[0m \u001b[0;36m0\u001b[0m\u001b[0;34m)\u001b[0m\u001b[0;34m)\u001b[0m \u001b[0;32mfor\u001b[0m \u001b[0mi\u001b[0m \u001b[0;32min\u001b[0m \u001b[0mrange\u001b[0m\u001b[0;34m(\u001b[0m\u001b[0mconfig\u001b[0m\u001b[0;34m.\u001b[0m\u001b[0mnum_layers\u001b[0m\u001b[0;34m)\u001b[0m\u001b[0;34m]\u001b[0m\u001b[0;34m\u001b[0m\u001b[0;34m\u001b[0m\u001b[0m\n\u001b[0m\u001b[1;32m    882\u001b[0m         )\n\u001b[1;32m    883\u001b[0m         \u001b[0mself\u001b[0m\u001b[0;34m.\u001b[0m\u001b[0mfinal_layer_norm\u001b[0m \u001b[0;34m=\u001b[0m \u001b[0mT5LayerNorm\u001b[0m\u001b[0;34m(\u001b[0m\u001b[0mconfig\u001b[0m\u001b[0;34m.\u001b[0m\u001b[0md_model\u001b[0m\u001b[0;34m,\u001b[0m \u001b[0meps\u001b[0m\u001b[0;34m=\u001b[0m\u001b[0mconfig\u001b[0m\u001b[0;34m.\u001b[0m\u001b[0mlayer_norm_epsilon\u001b[0m\u001b[0;34m)\u001b[0m\u001b[0;34m\u001b[0m\u001b[0;34m\u001b[0m\u001b[0m\n",
      "\u001b[0;32m~/.pyenv/versions/3.7.3/lib/python3.7/site-packages/transformers/models/t5/modeling_t5.py\u001b[0m in \u001b[0;36m__init__\u001b[0;34m(self, config, has_relative_attention_bias)\u001b[0m\n\u001b[1;32m    657\u001b[0m             \u001b[0mself\u001b[0m\u001b[0;34m.\u001b[0m\u001b[0mlayer\u001b[0m\u001b[0;34m.\u001b[0m\u001b[0mappend\u001b[0m\u001b[0;34m(\u001b[0m\u001b[0mT5LayerCrossAttention\u001b[0m\u001b[0;34m(\u001b[0m\u001b[0mconfig\u001b[0m\u001b[0;34m)\u001b[0m\u001b[0;34m)\u001b[0m\u001b[0;34m\u001b[0m\u001b[0;34m\u001b[0m\u001b[0m\n\u001b[1;32m    658\u001b[0m \u001b[0;34m\u001b[0m\u001b[0m\n\u001b[0;32m--> 659\u001b[0;31m         \u001b[0mself\u001b[0m\u001b[0;34m.\u001b[0m\u001b[0mlayer\u001b[0m\u001b[0;34m.\u001b[0m\u001b[0mappend\u001b[0m\u001b[0;34m(\u001b[0m\u001b[0mT5LayerFF\u001b[0m\u001b[0;34m(\u001b[0m\u001b[0mconfig\u001b[0m\u001b[0;34m)\u001b[0m\u001b[0;34m)\u001b[0m\u001b[0;34m\u001b[0m\u001b[0;34m\u001b[0m\u001b[0m\n\u001b[0m\u001b[1;32m    660\u001b[0m \u001b[0;34m\u001b[0m\u001b[0m\n\u001b[1;32m    661\u001b[0m     def forward(\n",
      "\u001b[0;32m~/.pyenv/versions/3.7.3/lib/python3.7/site-packages/transformers/models/t5/modeling_t5.py\u001b[0m in \u001b[0;36m__init__\u001b[0;34m(self, config)\u001b[0m\n\u001b[1;32m    332\u001b[0m         \u001b[0msuper\u001b[0m\u001b[0;34m(\u001b[0m\u001b[0;34m)\u001b[0m\u001b[0;34m.\u001b[0m\u001b[0m__init__\u001b[0m\u001b[0;34m(\u001b[0m\u001b[0;34m)\u001b[0m\u001b[0;34m\u001b[0m\u001b[0;34m\u001b[0m\u001b[0m\n\u001b[1;32m    333\u001b[0m         \u001b[0;32mif\u001b[0m \u001b[0mconfig\u001b[0m\u001b[0;34m.\u001b[0m\u001b[0mis_gated_act\u001b[0m\u001b[0;34m:\u001b[0m\u001b[0;34m\u001b[0m\u001b[0;34m\u001b[0m\u001b[0m\n\u001b[0;32m--> 334\u001b[0;31m             \u001b[0mself\u001b[0m\u001b[0;34m.\u001b[0m\u001b[0mDenseReluDense\u001b[0m \u001b[0;34m=\u001b[0m \u001b[0mT5DenseGatedActDense\u001b[0m\u001b[0;34m(\u001b[0m\u001b[0mconfig\u001b[0m\u001b[0;34m)\u001b[0m\u001b[0;34m\u001b[0m\u001b[0;34m\u001b[0m\u001b[0m\n\u001b[0m\u001b[1;32m    335\u001b[0m         \u001b[0;32melse\u001b[0m\u001b[0;34m:\u001b[0m\u001b[0;34m\u001b[0m\u001b[0;34m\u001b[0m\u001b[0m\n\u001b[1;32m    336\u001b[0m             \u001b[0mself\u001b[0m\u001b[0;34m.\u001b[0m\u001b[0mDenseReluDense\u001b[0m \u001b[0;34m=\u001b[0m \u001b[0mT5DenseActDense\u001b[0m\u001b[0;34m(\u001b[0m\u001b[0mconfig\u001b[0m\u001b[0;34m)\u001b[0m\u001b[0;34m\u001b[0m\u001b[0;34m\u001b[0m\u001b[0m\n",
      "\u001b[0;32m~/.pyenv/versions/3.7.3/lib/python3.7/site-packages/transformers/models/t5/modeling_t5.py\u001b[0m in \u001b[0;36m__init__\u001b[0;34m(self, config)\u001b[0m\n\u001b[1;32m    302\u001b[0m     \u001b[0;32mdef\u001b[0m \u001b[0m__init__\u001b[0m\u001b[0;34m(\u001b[0m\u001b[0mself\u001b[0m\u001b[0;34m,\u001b[0m \u001b[0mconfig\u001b[0m\u001b[0;34m:\u001b[0m \u001b[0mT5Config\u001b[0m\u001b[0;34m)\u001b[0m\u001b[0;34m:\u001b[0m\u001b[0;34m\u001b[0m\u001b[0;34m\u001b[0m\u001b[0m\n\u001b[1;32m    303\u001b[0m         \u001b[0msuper\u001b[0m\u001b[0;34m(\u001b[0m\u001b[0;34m)\u001b[0m\u001b[0;34m.\u001b[0m\u001b[0m__init__\u001b[0m\u001b[0;34m(\u001b[0m\u001b[0;34m)\u001b[0m\u001b[0;34m\u001b[0m\u001b[0;34m\u001b[0m\u001b[0m\n\u001b[0;32m--> 304\u001b[0;31m         \u001b[0mself\u001b[0m\u001b[0;34m.\u001b[0m\u001b[0mwi_0\u001b[0m \u001b[0;34m=\u001b[0m \u001b[0mnn\u001b[0m\u001b[0;34m.\u001b[0m\u001b[0mLinear\u001b[0m\u001b[0;34m(\u001b[0m\u001b[0mconfig\u001b[0m\u001b[0;34m.\u001b[0m\u001b[0md_model\u001b[0m\u001b[0;34m,\u001b[0m \u001b[0mconfig\u001b[0m\u001b[0;34m.\u001b[0m\u001b[0md_ff\u001b[0m\u001b[0;34m,\u001b[0m \u001b[0mbias\u001b[0m\u001b[0;34m=\u001b[0m\u001b[0;32mFalse\u001b[0m\u001b[0;34m)\u001b[0m\u001b[0;34m\u001b[0m\u001b[0;34m\u001b[0m\u001b[0m\n\u001b[0m\u001b[1;32m    305\u001b[0m         \u001b[0mself\u001b[0m\u001b[0;34m.\u001b[0m\u001b[0mwi_1\u001b[0m \u001b[0;34m=\u001b[0m \u001b[0mnn\u001b[0m\u001b[0;34m.\u001b[0m\u001b[0mLinear\u001b[0m\u001b[0;34m(\u001b[0m\u001b[0mconfig\u001b[0m\u001b[0;34m.\u001b[0m\u001b[0md_model\u001b[0m\u001b[0;34m,\u001b[0m \u001b[0mconfig\u001b[0m\u001b[0;34m.\u001b[0m\u001b[0md_ff\u001b[0m\u001b[0;34m,\u001b[0m \u001b[0mbias\u001b[0m\u001b[0;34m=\u001b[0m\u001b[0;32mFalse\u001b[0m\u001b[0;34m)\u001b[0m\u001b[0;34m\u001b[0m\u001b[0;34m\u001b[0m\u001b[0m\n\u001b[1;32m    306\u001b[0m         \u001b[0mself\u001b[0m\u001b[0;34m.\u001b[0m\u001b[0mwo\u001b[0m \u001b[0;34m=\u001b[0m \u001b[0mnn\u001b[0m\u001b[0;34m.\u001b[0m\u001b[0mLinear\u001b[0m\u001b[0;34m(\u001b[0m\u001b[0mconfig\u001b[0m\u001b[0;34m.\u001b[0m\u001b[0md_ff\u001b[0m\u001b[0;34m,\u001b[0m \u001b[0mconfig\u001b[0m\u001b[0;34m.\u001b[0m\u001b[0md_model\u001b[0m\u001b[0;34m,\u001b[0m \u001b[0mbias\u001b[0m\u001b[0;34m=\u001b[0m\u001b[0;32mFalse\u001b[0m\u001b[0;34m)\u001b[0m\u001b[0;34m\u001b[0m\u001b[0;34m\u001b[0m\u001b[0m\n",
      "\u001b[0;32m~/.pyenv/versions/3.7.3/lib/python3.7/site-packages/torch/nn/modules/linear.py\u001b[0m in \u001b[0;36m__init__\u001b[0;34m(self, in_features, out_features, bias, device, dtype)\u001b[0m\n\u001b[1;32m     99\u001b[0m         \u001b[0;32melse\u001b[0m\u001b[0;34m:\u001b[0m\u001b[0;34m\u001b[0m\u001b[0;34m\u001b[0m\u001b[0m\n\u001b[1;32m    100\u001b[0m             \u001b[0mself\u001b[0m\u001b[0;34m.\u001b[0m\u001b[0mregister_parameter\u001b[0m\u001b[0;34m(\u001b[0m\u001b[0;34m'bias'\u001b[0m\u001b[0;34m,\u001b[0m \u001b[0;32mNone\u001b[0m\u001b[0;34m)\u001b[0m\u001b[0;34m\u001b[0m\u001b[0;34m\u001b[0m\u001b[0m\n\u001b[0;32m--> 101\u001b[0;31m         \u001b[0mself\u001b[0m\u001b[0;34m.\u001b[0m\u001b[0mreset_parameters\u001b[0m\u001b[0;34m(\u001b[0m\u001b[0;34m)\u001b[0m\u001b[0;34m\u001b[0m\u001b[0;34m\u001b[0m\u001b[0m\n\u001b[0m\u001b[1;32m    102\u001b[0m \u001b[0;34m\u001b[0m\u001b[0m\n\u001b[1;32m    103\u001b[0m     \u001b[0;32mdef\u001b[0m \u001b[0mreset_parameters\u001b[0m\u001b[0;34m(\u001b[0m\u001b[0mself\u001b[0m\u001b[0;34m)\u001b[0m \u001b[0;34m->\u001b[0m \u001b[0;32mNone\u001b[0m\u001b[0;34m:\u001b[0m\u001b[0;34m\u001b[0m\u001b[0;34m\u001b[0m\u001b[0m\n",
      "\u001b[0;32m~/.pyenv/versions/3.7.3/lib/python3.7/site-packages/torch/nn/modules/linear.py\u001b[0m in \u001b[0;36mreset_parameters\u001b[0;34m(self)\u001b[0m\n\u001b[1;32m    105\u001b[0m         \u001b[0;31m# uniform(-1/sqrt(in_features), 1/sqrt(in_features)). For details, see\u001b[0m\u001b[0;34m\u001b[0m\u001b[0;34m\u001b[0m\u001b[0;34m\u001b[0m\u001b[0m\n\u001b[1;32m    106\u001b[0m         \u001b[0;31m# https://github.com/pytorch/pytorch/issues/57109\u001b[0m\u001b[0;34m\u001b[0m\u001b[0;34m\u001b[0m\u001b[0;34m\u001b[0m\u001b[0m\n\u001b[0;32m--> 107\u001b[0;31m         \u001b[0minit\u001b[0m\u001b[0;34m.\u001b[0m\u001b[0mkaiming_uniform_\u001b[0m\u001b[0;34m(\u001b[0m\u001b[0mself\u001b[0m\u001b[0;34m.\u001b[0m\u001b[0mweight\u001b[0m\u001b[0;34m,\u001b[0m \u001b[0ma\u001b[0m\u001b[0;34m=\u001b[0m\u001b[0mmath\u001b[0m\u001b[0;34m.\u001b[0m\u001b[0msqrt\u001b[0m\u001b[0;34m(\u001b[0m\u001b[0;36m5\u001b[0m\u001b[0;34m)\u001b[0m\u001b[0;34m)\u001b[0m\u001b[0;34m\u001b[0m\u001b[0;34m\u001b[0m\u001b[0m\n\u001b[0m\u001b[1;32m    108\u001b[0m         \u001b[0;32mif\u001b[0m \u001b[0mself\u001b[0m\u001b[0;34m.\u001b[0m\u001b[0mbias\u001b[0m \u001b[0;32mis\u001b[0m \u001b[0;32mnot\u001b[0m \u001b[0;32mNone\u001b[0m\u001b[0;34m:\u001b[0m\u001b[0;34m\u001b[0m\u001b[0;34m\u001b[0m\u001b[0m\n\u001b[1;32m    109\u001b[0m             \u001b[0mfan_in\u001b[0m\u001b[0;34m,\u001b[0m \u001b[0m_\u001b[0m \u001b[0;34m=\u001b[0m \u001b[0minit\u001b[0m\u001b[0;34m.\u001b[0m\u001b[0m_calculate_fan_in_and_fan_out\u001b[0m\u001b[0;34m(\u001b[0m\u001b[0mself\u001b[0m\u001b[0;34m.\u001b[0m\u001b[0mweight\u001b[0m\u001b[0;34m)\u001b[0m\u001b[0;34m\u001b[0m\u001b[0;34m\u001b[0m\u001b[0m\n",
      "\u001b[0;32m~/.pyenv/versions/3.7.3/lib/python3.7/site-packages/torch/nn/init.py\u001b[0m in \u001b[0;36mkaiming_uniform_\u001b[0;34m(tensor, a, mode, nonlinearity)\u001b[0m\n\u001b[1;32m    410\u001b[0m     \u001b[0mbound\u001b[0m \u001b[0;34m=\u001b[0m \u001b[0mmath\u001b[0m\u001b[0;34m.\u001b[0m\u001b[0msqrt\u001b[0m\u001b[0;34m(\u001b[0m\u001b[0;36m3.0\u001b[0m\u001b[0;34m)\u001b[0m \u001b[0;34m*\u001b[0m \u001b[0mstd\u001b[0m  \u001b[0;31m# Calculate uniform bounds from standard deviation\u001b[0m\u001b[0;34m\u001b[0m\u001b[0;34m\u001b[0m\u001b[0m\n\u001b[1;32m    411\u001b[0m     \u001b[0;32mwith\u001b[0m \u001b[0mtorch\u001b[0m\u001b[0;34m.\u001b[0m\u001b[0mno_grad\u001b[0m\u001b[0;34m(\u001b[0m\u001b[0;34m)\u001b[0m\u001b[0;34m:\u001b[0m\u001b[0;34m\u001b[0m\u001b[0;34m\u001b[0m\u001b[0m\n\u001b[0;32m--> 412\u001b[0;31m         \u001b[0;32mreturn\u001b[0m \u001b[0mtensor\u001b[0m\u001b[0;34m.\u001b[0m\u001b[0muniform_\u001b[0m\u001b[0;34m(\u001b[0m\u001b[0;34m-\u001b[0m\u001b[0mbound\u001b[0m\u001b[0;34m,\u001b[0m \u001b[0mbound\u001b[0m\u001b[0;34m)\u001b[0m\u001b[0;34m\u001b[0m\u001b[0;34m\u001b[0m\u001b[0m\n\u001b[0m\u001b[1;32m    413\u001b[0m \u001b[0;34m\u001b[0m\u001b[0m\n\u001b[1;32m    414\u001b[0m \u001b[0;34m\u001b[0m\u001b[0m\n",
      "\u001b[0;31mKeyboardInterrupt\u001b[0m: "
     ]
    }
   ],
   "source": [
    "import sys\n",
    "\n",
    "# Add the parent directory of ABSA to the module search path\n",
    "sys.path.append('..')\n",
    "from models.Clustering import scores\n",
    "from scripts import script\n",
    "sentences = get_ratings_sentences()\n",
    "category_1_score = 0\n",
    "category_1_total = 0\n",
    "category_2_score = 0\n",
    "category_2_total = 0\n",
    "category_3_score = 0\n",
    "category_3_total = 0\n",
    "category_4_score = 0\n",
    "category_4_total = 0\n",
    "for sent in sentences:\n",
    "\tprint(\"Sentence:\" , sent)\n",
    "\tterms, labels = script.return_iabsa(script.Task.JOINT, \"../models/InstructABSA/InstructABSA/Models/joint/allenaitk_instruct_base_def_pos_jointtask_check\", 2, sent)\n",
    "\tprint(\"Aspects:\" , terms)\n",
    "\tprint(\"Polarities: \" , labels)\n",
    "\tcategories_scores, categories_total = scores.get_clusters(terms, labels)\n",
    "\tprint(\"Clustering scores: \", categories_scores)\n",
    "\tcategory_1_score += categories_scores[0]\n",
    "\tcategory_1_total += categories_total[0]\n",
    "\tcategory_2_score += categories_scores[1]\n",
    "\tcategory_2_total += categories_total[1]\n",
    "\tcategory_3_score += categories_scores[2]\n",
    "\tcategory_3_total += categories_total[2]\n",
    "\tcategory_4_score += categories_scores[3]\n",
    "\tcategory_4_total += categories_total[3]\n",
    "print(\"Analysis\")\n",
    "print(\"service: \", category_1_score, \"/\", category_1_total)\n",
    "print(\"food: \", category_2_score, \"/\", category_2_total)\n",
    "print(\"price: \", category_3_score, \"/\", category_3_total)\n",
    "print(\"ambience: \", category_4_score, \"/\", category_4_total)\n"
   ]
  },
  {
   "cell_type": "code",
   "execution_count": 6,
   "metadata": {},
   "outputs": [
    {
     "name": "stdout",
     "output_type": "stream",
     "text": [
      "service:  5 / 15\n",
      "food:  11 / 39\n",
      "price:  7 / 14\n",
      "ambience:  6 / 9\n"
     ]
    }
   ],
   "source": [
    "print(\"service: \", category_1_score, \"/\", category_1_total)\n",
    "print(\"food: \", category_2_score, \"/\", category_2_total)\n",
    "print(\"price: \", category_3_score, \"/\", category_3_total)\n",
    "print(\"ambience: \", category_4_score, \"/\", category_4_total)\n"
   ]
  }
 ],
 "metadata": {
  "kernelspec": {
   "display_name": "Python 3",
   "language": "python",
   "name": "python3"
  },
  "language_info": {
   "codemirror_mode": {
    "name": "ipython",
    "version": 3
   },
   "file_extension": ".py",
   "mimetype": "text/x-python",
   "name": "python",
   "nbconvert_exporter": "python",
   "pygments_lexer": "ipython3",
   "version": "3.7.3"
  },
  "orig_nbformat": 4
 },
 "nbformat": 4,
 "nbformat_minor": 2
}
